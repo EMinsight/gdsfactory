{
 "cells": [
  {
   "cell_type": "markdown",
   "metadata": {},
   "source": [
    "## Gdsfactory v8 small migration guide"
   ]
  },
  {
   "cell_type": "markdown",
   "metadata": {},
   "source": [
    "### Migration to v8.33\n",
    "\n",
    "Due to the recent release of KFactory v1.0.0, we have had to make some small changes to the API of the following classes:\n",
    "- Component\n",
    "- Port\n",
    "- ComponentReference\n",
    "- ComponentReferences\n",
    "\n",
    "v8.33 is not a major migration, but it is a good idea to make sure your code is compatible with the new API."
   ]
  },
  {
   "cell_type": "markdown",
   "metadata": {},
   "source": [
    "#### Main changes\n",
    "\n",
    "Note the migration changes:\n",
    "- `port.dangle` has been renamed to `port.orientation`\n",
    "    - `port.angle` represents the angle 90 degrees multiples.\n",
    "    - `port.orientation` represents the angle in degrees.\n",
    "- `CHECK_INSTANCES` has been renamed to `CheckInstances`\n",
    "    - Most often used in the `@cell` decorator.\n",
    "- `Port(..., layer: tuple[int, int])` has been replaced with `Port(..., layer: int)`\n",
    "    - `layer` now represents the layer index in the KLayout layer stack.\n",
    "    - To update your code you can do `Port(..., layer=gf.kcl.layout.layer(*layer))`\n",
    "    - We also recommend just using Component.add_port, with which you can specify the layer as tuple.\n",
    "- Most of the `d` prefix attributes and functions can now be used without the `d` prefix.\n",
    "- `ComponentReference.parent` has been removed, you should use `ComponentReference.cell` instead.\n",
    "- `ComponentReference.info` has been removed, you should use `ComponentReference.cell.info` instead."
   ]
  },
  {
   "cell_type": "markdown",
   "metadata": {},
   "source": [
    "#### gdsfactory.typings\n",
    "\n",
    "Some of the type aliases have been removed, you can now use the following:\n",
    "\n",
    "Moved from gdsfactory.typings to gdsfactory.cross_section:\n",
    "- `MultiCrossSectionAngleSpec`\n",
    "- `CrossSectionFactory`\n",
    "- `CrossSectionSpec`\n",
    "\n",
    "Moved from gdsfactory.typings to gdsfactory.component:\n",
    "- `AnyComponent`\n",
    "- `AnyComponentT`\n",
    "- `AnyComponentFactory`\n",
    "- `AnyComponentPostProcess`\n",
    "- `ComponentFactory`\n",
    "- `ComponentAllAngleFactory`\n",
    "- `ComponentFactoryDict`\n",
    "- `ComponentFactories` \n",
    "- `ComponentSpecOrList`\n",
    "- `CellSpec`\n",
    "\n",
    "Removed from gdsfactory.typings:\n",
    "- `NameToFunctionDict`\n",
    "- `ComponentBaseFactory`"
   ]
  }
 ],
 "metadata": {
  "language_info": {
   "name": "python"
  }
 },
 "nbformat": 4,
 "nbformat_minor": 2
}
